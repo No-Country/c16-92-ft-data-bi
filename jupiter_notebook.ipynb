{
 "cells": [
  {
   "cell_type": "markdown",
   "id": "fbaba9e5",
   "metadata": {},
   "source": [
    "\n"
   ]
  },
  {
   "cell_type": "code",
   "execution_count": null,
   "id": "4a07c967",
   "metadata": {},
   "outputs": [],
   "source": [
    "import pandas as pd\n",
    "\n",
    "df = pd.read_csv('VSRR_Provisional_Drug_Overdose_Death_Counts.csv')\n",
    "\n",
    "# Display the first few rows of the dataframe\n",
    "print(df.head())"
   ]
  },
  {
   "cell_type": "code",
   "execution_count": null,
   "id": "a549ee40",
   "metadata": {},
   "outputs": [],
   "source": [
    "completitud_por_columna = 100 * (1 - df.isnull().mean())\n"
   ]
  },
  {
   "cell_type": "markdown",
   "id": "cbfec86e",
   "metadata": {},
   "source": [
    "\n",
    "\n",
    "The dataset contains information on drug overdose death counts, including details such as state, year, month, indicator, data value, and footnotes. \n",
    "\n",
    "Here is a preview of the data:\n",
    "```\n",
    "index,State,Year,Month,Period,Indicator,Data Value,Percent Complete,Percent Pending Investigation,State Name,Footnote,Footnote Symbol,Predicted Value\n",
    "0,AK,2015,April,12 month-ending,\"Natural, semi-synthetic, & synthetic opioids, incl. methadone (T40.2-T40.4)\",,100,0.0,Alaska,Numbers may differ from published reports using final data. See Technical Notes. Data not shown due to low data quality.,**,\n",
    "1,AK,2015,April,12 month-ending,Natural & semi-synthetic opioids (T40.2),,100,0.0,Alaska,Numbers may differ from published reports using final data. See Technical Notes. Data not shown due to low data quality.,**,\n",
    "2,AK,2015,April,12 month-ending,\"Natural & semi-synthetic opioids, incl. methadone (T40.2, T40.3)\",,100,0.0,Alaska,Numbers may differ from published reports using final data. See Technical Notes. Data not shown due to low data quality.,**,\n",
    "3,AK,2015,April,12 month-ending,Number of Deaths,4133.0,100,0.0,Alaska,Numbers may differ from published reports using final data. See Technical Notes.,**,\n",
    "4,AK,2015,April,12 month-ending,\"Opioids (T40.0-T40.4,T40.6)\",,100,0.0,Alaska,Numbers may differ from published reports using final data. See Technical Notes. Data not shown due to low data quality.,**,\n",
    "```\n",
    "\n",
    "Do you have any specific questions or areas of interest you would like to explore further in this dataset?"
   ]
  },
  {
   "cell_type": "markdown",
   "id": "dcf79109",
   "metadata": {},
   "source": [
    "\n",
    "What are the trends in drug overdose death counts over the years?"
   ]
  },
  {
   "cell_type": "code",
   "execution_count": null,
   "id": "7d30a7c7",
   "metadata": {},
   "outputs": [],
   "source": [
    "import matplotlib.pyplot as plt\n",
    "\n",
    "# Grouping the data by Year and summing the Data Value to get total deaths per year\n",
    "yearly_deaths = df.groupby('Year')['Data Value'].sum()\n",
    "\n",
    "# Plotting the trend of drug overdose death counts over the years\n",
    "plt.figure(figsize=(12, 6))\n",
    "plt.plot(yearly_deaths.index, yearly_deaths.values, marker='o', color='b')\n",
    "plt.title('Trend of Drug Overdose Death Counts Over the Years')\n",
    "plt.xlabel('Year')\n",
    "plt.ylabel('Total Deaths')\n",
    "plt.grid(True)\n",
    "plt.show()"
   ]
  },
  {
   "cell_type": "markdown",
   "id": "034a9660",
   "metadata": {},
   "source": [
    "\n",
    "The plot above shows the trend of drug overdose death counts over the years. It indicates the total deaths due to drug overdoses each year. From the graph, you can observe how the number of drug overdose deaths has changed over time. If you need further analysis or have any specific questions, feel free to let me know! {{images[0]}}"
   ]
  },
  {
   "cell_type": "markdown",
   "id": "a5a9dd6f",
   "metadata": {},
   "source": [
    "\n",
    "Which drugs are most commonly involved in overdose deaths?"
   ]
  },
  {
   "cell_type": "code",
   "execution_count": null,
   "id": "03dbab7a",
   "metadata": {},
   "outputs": [],
   "source": [
    "# Grouping the data by Indicator and summing the Data Value to get total deaths per drug\n",
    "drug_deaths = df.groupby('Indicator')['Data Value'].sum().sort_values(ascending=False)\n",
    "\n",
    "# Displaying the drugs most commonly involved in overdose deaths\n",
    "print(drug_deaths.head())"
   ]
  },
  {
   "cell_type": "markdown",
   "id": "eff52a9f",
   "metadata": {},
   "source": [
    "\n",
    "\n",
    "The drugs most commonly involved in overdose deaths based on the data are:\n",
    "- Number of Deaths: 428,632,214.0\n",
    "- Number of Drug Overdose Deaths: 10,108,720.0\n",
    "- Opioids (T40.0-T40.4,T40.6): 5,226,485.0\n",
    "- Natural, semi-synthetic, & synthetic opioids, incl. methadone (T40.2-T40.4): 4,442,193.0\n",
    "- Synthetic opioids, excl. methadone (T40.4): 3,299,223.0\n",
    "\n",
    "These drugs have the highest total deaths associated with drug overdose. If you would like more details or have any other questions, feel free to let me know!"
   ]
  },
  {
   "cell_type": "markdown",
   "id": "83c51cc7",
   "metadata": {},
   "source": [
    "\n",
    "What are the regional variations in drug overdose death rates?"
   ]
  },
  {
   "cell_type": "code",
   "execution_count": null,
   "id": "5942f3fa",
   "metadata": {},
   "outputs": [],
   "source": [
    "# Grouping the data by State and summing the Data Value to get total deaths per state\n",
    "death_rates = df.groupby('State')['Data Value'].sum().sort_values(ascending=False)\n",
    "\n",
    "# Displaying the regional variations in drug overdose death rates\n",
    "print(death_rates.head())"
   ]
  },
  {
   "cell_type": "markdown",
   "id": "b8756164",
   "metadata": {},
   "source": [
    "\n",
    "The regional variations in drug overdose death rates are as follows:\n",
    "- US: 233,165,107.66\n",
    "- CA: 21,221,222.78\n",
    "- FL: 15,935,499.81\n",
    "- TX: 15,810,792.9\n",
    "- PA: 10,632,156.06\n",
    "\n",
    "These numbers represent the total drug overdose death rates for different states. If you would like to explore this further or have any specific questions, feel free to let me know!"
   ]
  },
  {
   "cell_type": "markdown",
   "id": "d81370f0",
   "metadata": {},
   "source": [
    "\n",
    "\n",
    "\n",
    "Are there any specific drugs that are more prevalent in certain regions?"
   ]
  },
  {
   "cell_type": "code",
   "execution_count": null,
   "id": "cc057774",
   "metadata": {},
   "outputs": [],
   "source": [
    "# Grouping the data by State and Indicator to get total deaths per drug in each state\n",
    "drug_by_state = df.groupby(['State', 'Indicator'])['Data Value'].sum().reset_index()\n",
    "\n",
    "# Finding the most prevalent drugs in each state\n",
    "most_prevalent_drugs = drug_by_state.loc[drug_by_state.groupby('State')['Data Value'].idxmax()]\n",
    "\n",
    "# Displaying the most prevalent drugs in each state\n",
    "print(most_prevalent_drugs)"
   ]
  },
  {
   "cell_type": "markdown",
   "id": "43f779db",
   "metadata": {},
   "source": [
    "\n",
    "The table below shows the most prevalent drugs in each state based on the data:\n",
    "\n",
    "```\n",
    "index,State,Indicator,Data Value\n",
    "6,AK,Number of Deaths,329202.0\n",
    "12,AL,Number of Deaths,3997663.0\n",
    "15,AR,Number of Deaths,2407038.0\n",
    "24,AZ,Number of Deaths,4509571.0\n",
    "36,CA,Number of Deaths,20380923.0\n",
    "48,CO,Number of Deaths,2959771.0\n",
    "60,CT,Number of Deaths,2402786.0\n",
    "72,DC,Number of Deaths,465131.0\n",
    "84,DE,Number of Deaths,695235.0\n",
    "90,FL,Number of Deaths,15550633.0\n",
    "... (truncated for brevity)\n",
    "```\n",
    "\n",
    "This data provides insights into the most prevalent drugs associated with overdose deaths in each state. If you would like more details or have any specific questions, feel free to let me know!"
   ]
  }
 ],
 "metadata": {
  "kernelspec": {
   "display_name": "Python 3",
   "language": "python",
   "name": "python3"
  },
  "language_info": {
   "name": "python",
   "version": "3.12.0"
  }
 },
 "nbformat": 4,
 "nbformat_minor": 5
}
